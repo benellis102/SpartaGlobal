{
 "cells": [
  {
   "cell_type": "code",
   "execution_count": 34,
   "metadata": {},
   "outputs": [
    {
     "data": {
      "text/plain": [
       "Text(0.5, 0, 'Areas')"
      ]
     },
     "execution_count": 34,
     "metadata": {},
     "output_type": "execute_result"
    },
    {
     "data": {
      "image/png": "[encoded data removed]",
      "text/plain": [
       "<Figure size 432x288 with 1 Axes>"
      ]
     },
     "metadata": {
      "needs_background": "light"
     },
     "output_type": "display_data"
    }
   ],
   "source": [
    "%matplotlib inline\n",
    "from scipy import random \n",
    "import numpy as np \n",
    "import matplotlib.pyplot as plt\n",
    "\n",
    "a = 0\n",
    "b = np.pi \n",
    "N = 10000\n",
    "\n",
    "xrand = random.uniform(a,b,N)\n",
    "\n",
    "def func(x):\n",
    "    return np.sin(x)\n",
    "    \n",
    "\n",
    "areas = []\n",
    "\n",
    "for i in range(N):\n",
    "    xrand = random.uniform(a,b,N)\n",
    "    \n",
    "    integral = 0.0\n",
    "\n",
    "    for i in range(N):\n",
    "        integral += func(xrand[i])\n",
    "    \n",
    "    answer = (b - a) / float(N) * integral\n",
    "    areas.append(answer)\n",
    "\n",
    "plt.title(\"Distribution of areas calculated\")\n",
    "plt.hist(areas,bins = 30, ec = 'black')\n",
    "plt.xlabel(\"Areas\")"
   ]
  },
  {
   "cell_type": "code",
   "execution_count": null,
   "metadata": {},
   "outputs": [],
   "source": []
  }
 ],
 "metadata": {
  "kernelspec": {
   "display_name": "Python 3",
   "language": "python",
   "name": "python3"
  }
 },
 "nbformat": 4,
 "nbformat_minor": 2
}
