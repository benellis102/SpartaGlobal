{
 "cells": [
  {
   "cell_type": "code",
   "execution_count": 23,
   "metadata": {},
   "outputs": [
    {
     "name": "stdout",
     "output_type": "stream",
     "text": [
      "walk size =  1 / % of no transport =  100.0\n",
      "walk size =  2 / % of no transport =  100.0\n",
      "walk size =  3 / % of no transport =  100.0\n",
      "walk size =  4 / % of no transport =  100.0\n",
      "walk size =  5 / % of no transport =  88.255\n",
      "walk size =  6 / % of no transport =  93.975\n",
      "walk size =  7 / % of no transport =  76.895\n",
      "walk size =  8 / % of no transport =  86.69\n",
      "walk size =  9 / % of no transport =  67.17999999999999\n",
      "walk size =  10 / % of no transport =  79.19\n",
      "walk size =  11 / % of no transport =  59.81999999999999\n",
      "walk size =  12 / % of no transport =  73.22999999999999\n",
      "walk size =  13 / % of no transport =  53.669999999999995\n",
      "walk size =  14 / % of no transport =  67.60000000000001\n"
     ]
    }
   ],
   "source": [
    "import random\n",
    "\n",
    "\n",
    "def random_walk_2(n):\n",
    "    x, y = 0, 0\n",
    "    for i in range(n):\n",
    "        (dx, dy) = random.choice([(0, 1), (0, -1), (1, 0), (-1, 0)])\n",
    "        x += dx\n",
    "        y += dy\n",
    "    return x, y\n",
    "\n",
    "\n",
    "number_of_walks = 20000\n",
    "\n",
    "\n",
    "for walk_length in range(1, 15):\n",
    "    no_transport = 0\n",
    "    for i in range(number_of_walks):\n",
    "        x, y = random_walk_2(walk_length)\n",
    "        distance = abs(x) + abs(y)\n",
    "        if distance <= 4:\n",
    "            no_transport += 1\n",
    "    no_transport_percentage = float(no_transport) / number_of_walks\n",
    "    print('walk size = ', walk_length, '/ % of no transport = ', 100*no_transport_percentage)"
   ]
  },
  {
   "cell_type": "code",
   "execution_count": null,
   "metadata": {},
   "outputs": [],
   "source": []
  }
 ],
 "metadata": {
  "kernelspec": {
   "display_name": "Python 3",
   "language": "python",
   "name": "python3"
  },
  "language_info": {
   "codemirror_mode": {
    "name": "ipython",
    "version": 3
   },
   "file_extension": ".py",
   "mimetype": "text/x-python",
   "name": "python",
   "nbconvert_exporter": "python",
   "pygments_lexer": "ipython3",
   "version": "3.7.4"
  }
 },
 "nbformat": 4,
 "nbformat_minor": 2
}
